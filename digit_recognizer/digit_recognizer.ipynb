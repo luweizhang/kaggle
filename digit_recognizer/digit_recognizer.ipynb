{
 "metadata": {
  "name": "",
  "signature": "sha256:ebc99058eef233de145a3b68e5c2e026f2f8d609768f2a329d840d733f6c5732"
 },
 "nbformat": 3,
 "nbformat_minor": 0,
 "worksheets": [
  {
   "cells": [
    {
     "cell_type": "code",
     "collapsed": false,
     "input": [],
     "language": "python",
     "metadata": {},
     "outputs": [
      {
       "metadata": {},
       "output_type": "pyout",
       "prompt_number": 2,
       "text": [
        "['',\n",
        " '/Users/luzhang/anaconda/lib/python2.7/site-packages/azkaban-0.9.0-py2.7.egg',\n",
        " '/Users/luzhang/anaconda/lib/python2.7/site-packages/urllib3-1.10.4-py2.7.egg',\n",
        " '/Users/luzhang/anaconda/lib/python2.7/site-packages/docopt-0.6.2-py2.7.egg',\n",
        " '/Users/luzhang/anaconda/lib/python2.7/site-packages/requests-2.7.0-py2.7.egg',\n",
        " '/Users/luzhang/anaconda/lib/python27.zip',\n",
        " '/Users/luzhang/anaconda/lib/python2.7',\n",
        " '/Users/luzhang/anaconda/lib/python2.7/plat-darwin',\n",
        " '/Users/luzhang/anaconda/lib/python2.7/plat-mac',\n",
        " '/Users/luzhang/anaconda/lib/python2.7/plat-mac/lib-scriptpackages',\n",
        " '/Users/luzhang/anaconda/lib/python2.7/lib-tk',\n",
        " '/Users/luzhang/anaconda/lib/python2.7/lib-old',\n",
        " '/Users/luzhang/anaconda/lib/python2.7/lib-dynload',\n",
        " '/Users/luzhang/anaconda/lib/python2.7/site-packages',\n",
        " '/Users/luzhang/anaconda/lib/python2.7/site-packages/PIL',\n",
        " '/Users/luzhang/anaconda/lib/python2.7/site-packages/Sphinx-1.2.3-py2.7.egg',\n",
        " '/Users/luzhang/anaconda/lib/python2.7/site-packages/runipy-0.1.1-py2.7.egg',\n",
        " '/Users/luzhang/anaconda/lib/python2.7/site-packages/IPython/extensions']"
       ]
      }
     ],
     "prompt_number": 2
    },
    {
     "cell_type": "code",
     "collapsed": false,
     "input": [
      "import os\n",
      "os.getcwd()"
     ],
     "language": "python",
     "metadata": {},
     "outputs": [
      {
       "metadata": {},
       "output_type": "pyout",
       "prompt_number": 13,
       "text": [
        "'/Users/luzhang/Desktop/GDrive'"
       ]
      }
     ],
     "prompt_number": 13
    },
    {
     "cell_type": "code",
     "collapsed": false,
     "input": [
      "import pandas as pd\n",
      "import numpy as np\n",
      "import keras.layers.core as core\n",
      "import keras.layers.convolutional as conv\n",
      "import keras.models as models\n",
      "import keras.utils.np_utils as kutils\n",
      "\n",
      "# The competition datafiles are in the directory ../input\n",
      "# Read competition data files:\n",
      "train = pd.read_csv(\"./kaggle/train.csv\").values\n",
      "test  = pd.read_csv(\"./kaggle/test.csv\").values\n",
      "\n",
      "nb_epoch = 2 # Change to 100\n",
      "\n",
      "batch_size = 128\n",
      "img_rows, img_cols = 28, 28\n",
      "\n",
      "nb_filters_1 = 64\n",
      "nb_filters_2 = 128\n",
      "nb_filters_3 = 256\n",
      "nb_conv = 3\n",
      "\n",
      "trainX = train[:, 1:].reshape(train.shape[0], img_rows, img_cols, 1)\n",
      "trainX = trainX.astype(float)\n",
      "trainX /= 255.0\n",
      "\n",
      "trainY = kutils.to_categorical(train[:, 0])\n",
      "nb_classes = trainY.shape[1]\n",
      "\n",
      "cnn = models.Sequential()\n",
      "\n",
      "cnn.add(conv.Convolution2D(nb_filters_1, nb_conv, nb_conv,  activation=\"relu\", input_shape=(28, 28, 1), border_mode='same'))\n",
      "cnn.add(conv.Convolution2D(nb_filters_1, nb_conv, nb_conv, activation=\"relu\", border_mode='same'))\n",
      "cnn.add(conv.MaxPooling2D(strides=(2,2)))\n",
      "\n",
      "cnn.add(conv.Convolution2D(nb_filters_2, nb_conv, nb_conv, activation=\"relu\", border_mode='same'))\n",
      "cnn.add(conv.Convolution2D(nb_filters_2, nb_conv, nb_conv, activation=\"relu\", border_mode='same'))\n",
      "cnn.add(conv.MaxPooling2D(strides=(2,2)))\n",
      "\n",
      "cnn.add(conv.Convolution2D(nb_filters_3, nb_conv, nb_conv, activation=\"relu\", border_mode='same'))\n",
      "cnn.add(conv.Convolution2D(nb_filters_3, nb_conv, nb_conv, activation=\"relu\", border_mode='same'))\n",
      "cnn.add(conv.Convolution2D(nb_filters_3, nb_conv, nb_conv, activation=\"relu\", border_mode='same'))\n",
      "cnn.add(conv.Convolution2D(nb_filters_3, nb_conv, nb_conv, activation=\"relu\", border_mode='same'))\n",
      "cnn.add(conv.MaxPooling2D(strides=(2,2)))\n",
      "\n",
      "cnn.add(core.Flatten())\n",
      "cnn.add(core.Dropout(0.2))\n",
      "cnn.add(core.Dense(128, activation=\"relu\")) # 4096\n",
      "cnn.add(core.Dense(nb_classes, activation=\"softmax\"))\n",
      "\n",
      "cnn.summary()\n",
      "cnn.compile(loss=\"categorical_crossentropy\", optimizer=\"adam\", metrics=[\"accuracy\"])\n",
      "\n",
      "cnn.fit(trainX, trainY, batch_size=batch_size, nb_epoch=nb_epoch, verbose=1)\n",
      "\n",
      "testX = test.reshape(test.shape[0], 28, 28, 1)\n",
      "testX = testX.astype(float)\n",
      "testX /= 255.0\n",
      "\n",
      "yPred = cnn.predict_classes(testX)\n",
      "\n",
      "np.savetxt('mnist-vggnet.csv', np.c_[range(1,len(yPred)+1),yPred], delimiter=',', header = 'ImageId,Label', comments = '', fmt='%d')"
     ],
     "language": "python",
     "metadata": {},
     "outputs": [
      {
       "output_type": "stream",
       "stream": "stdout",
       "text": [
        "____________________________________________________________________________________________________\n",
        "Layer (type)                     Output Shape          Param #     Connected to                     \n",
        "====================================================================================================\n",
        "convolution2d_37 (Convolution2D) (None, 28, 28, 64)    640         convolution2d_input_9[0][0]      \n",
        "____________________________________________________________________________________________________\n",
        "convolution2d_38 (Convolution2D) (None, 28, 28, 64)    36928       convolution2d_37[0][0]           \n",
        "____________________________________________________________________________________________________\n",
        "maxpooling2d_18 (MaxPooling2D)   (None, 14, 14, 64)    0           convolution2d_38[0][0]           \n",
        "____________________________________________________________________________________________________\n",
        "convolution2d_39 (Convolution2D) (None, 14, 14, 128)   73856       maxpooling2d_18[0][0]            \n",
        "____________________________________________________________________________________________________\n",
        "convolution2d_40 (Convolution2D) (None, 14, 14, 128)   147584      convolution2d_39[0][0]           \n",
        "____________________________________________________________________________________________________\n",
        "maxpooling2d_19 (MaxPooling2D)   (None, 7, 7, 128)     0           convolution2d_40[0][0]           \n",
        "____________________________________________________________________________________________________\n",
        "convolution2d_41 (Convolution2D) (None, 7, 7, 256)     295168      maxpooling2d_19[0][0]            \n",
        "____________________________________________________________________________________________________\n",
        "convolution2d_42 (Convolution2D) (None, 7, 7, 256)     590080      convolution2d_41[0][0]           \n",
        "____________________________________________________________________________________________________\n",
        "convolution2d_43 (Convolution2D) (None, 7, 7, 256)     590080      convolution2d_42[0][0]           \n",
        "____________________________________________________________________________________________________\n",
        "convolution2d_44 (Convolution2D) (None, 7, 7, 256)     590080      convolution2d_43[0][0]           \n",
        "____________________________________________________________________________________________________\n",
        "maxpooling2d_20 (MaxPooling2D)   (None, 3, 3, 256)     0           convolution2d_44[0][0]           \n",
        "____________________________________________________________________________________________________\n",
        "flatten_9 (Flatten)              (None, 2304)          0           maxpooling2d_20[0][0]            \n",
        "____________________________________________________________________________________________________\n",
        "dropout_9 (Dropout)              (None, 2304)          0           flatten_9[0][0]                  \n",
        "____________________________________________________________________________________________________\n",
        "dense_17 (Dense)                 (None, 128)           295040      dropout_9[0][0]                  \n",
        "____________________________________________________________________________________________________\n",
        "dense_18 (Dense)                 (None, 10)            1290        dense_17[0][0]                   \n",
        "====================================================================================================\n",
        "Total params: 2620746\n",
        "____________________________________________________________________________________________________\n",
        "Epoch 1/2"
       ]
      },
      {
       "output_type": "stream",
       "stream": "stdout",
       "text": [
        "\n"
       ]
      },
      {
       "output_type": "stream",
       "stream": "stdout",
       "text": [
        "\r",
        "  128/42000 [..............................] - ETA: 2124s - loss: 2.3026 - acc: 0.1094"
       ]
      },
      {
       "output_type": "stream",
       "stream": "stdout",
       "text": [
        "\b\b\b\b\b\b\b\b\b\b\b\b\b\b\b\b\b\b\b\b\b\b\b\b\b\b\b\b\b\b\b\b\b\b\b\b\b\b\b\b\b\b\b\b\b\b\b\b\b\b\b\b\b\b\b\b\b\b\b\b\b\b\b\b\b\b\b\b\b\b\b\b\b\b\b\b\b\b\b\b\b\b\b\b\b\b\r",
        "  256/42000 [..............................] - ETA: 1871s - loss: 2.3027 - acc: 0.0938"
       ]
      },
      {
       "output_type": "stream",
       "stream": "stdout",
       "text": [
        "\b\b\b\b\b\b\b\b\b\b\b\b\b\b\b\b\b\b\b\b\b\b\b\b\b\b\b\b\b\b\b\b\b\b\b\b\b\b\b\b\b\b\b\b\b\b\b\b\b\b\b\b\b\b\b\b\b\b\b\b\b\b\b\b\b\b\b\b\b\b\b\b\b\b\b\b\b\b\b\b\b\b\b\b\b\b\r",
        "  384/42000 [..............................] - ETA: 1807s - loss: 2.3025 - acc: 0.1016"
       ]
      },
      {
       "output_type": "stream",
       "stream": "stdout",
       "text": [
        "\b\b\b\b\b\b\b\b\b\b\b\b\b\b\b\b\b\b\b\b\b\b\b\b\b\b\b\b\b\b\b\b\b\b\b\b\b\b\b\b\b\b\b\b\b\b\b\b\b\b\b\b\b\b\b\b\b\b\b\b\b\b\b\b\b\b\b\b\b\b\b\b\b\b\b\b\b\b\b\b\b\b\b\b\b\b\r",
        "  512/42000 [..............................] - ETA: 1739s - loss: 2.3047 - acc: 0.0898"
       ]
      },
      {
       "output_type": "stream",
       "stream": "stdout",
       "text": [
        "\b\b\b\b\b\b\b\b\b\b\b\b\b\b\b\b\b\b\b\b\b\b\b\b\b\b\b\b\b\b\b\b\b\b\b\b\b\b\b\b\b\b\b\b\b\b\b\b\b\b\b\b\b\b\b\b\b\b\b\b\b\b\b\b\b\b\b\b\b\b\b\b\b\b\b\b\b\b\b\b\b\b\b\b\b\b\r",
        "  640/42000 [..............................] - ETA: 1685s - loss: 2.3172 - acc: 0.1000"
       ]
      },
      {
       "output_type": "stream",
       "stream": "stdout",
       "text": [
        "\b\b\b\b\b\b\b\b\b\b\b\b\b\b\b\b\b\b\b\b\b\b\b\b\b\b\b\b\b\b\b\b\b\b\b\b\b\b\b\b\b\b\b\b\b\b\b\b\b\b\b\b\b\b\b\b\b\b\b\b\b\b\b\b\b\b\b\b\b\b\b\b\b\b\b\b\b\b\b\b\b\b\b\b\b\b\r",
        "  768/42000 [..............................] - ETA: 1633s - loss: 2.3161 - acc: 0.0977"
       ]
      },
      {
       "output_type": "stream",
       "stream": "stdout",
       "text": [
        "\b\b\b\b\b\b\b\b\b\b\b\b\b\b\b\b\b\b\b\b\b\b\b\b\b\b\b\b\b\b\b\b\b\b\b\b\b\b\b\b\b\b\b\b\b\b\b\b\b\b\b\b\b\b\b\b\b\b\b\b\b\b\b\b\b\b\b\b\b\b\b\b\b\b\b\b\b\b\b\b\b\b\b\b\b\b\r",
        "  896/42000 [..............................] - ETA: 1585s - loss: 2.3142 - acc: 0.0971"
       ]
      },
      {
       "output_type": "stream",
       "stream": "stdout",
       "text": [
        "\b\b\b\b\b\b\b\b\b\b\b\b\b\b\b\b\b\b\b\b\b\b\b\b\b\b\b\b\b\b\b\b\b\b\b\b\b\b\b\b\b\b\b\b\b\b\b\b\b\b\b\b\b\b\b\b\b\b\b\b\b\b\b\b\b\b\b\b\b\b\b\b\b\b\b\b\b\b\b\b\b\b\b\b\b\b\r",
        " 1024/42000 [..............................] - ETA: 1548s - loss: 2.3126 - acc: 0.0986"
       ]
      },
      {
       "output_type": "stream",
       "stream": "stdout",
       "text": [
        "\b\b\b\b\b\b\b\b\b\b\b\b\b\b\b\b\b\b\b\b\b\b\b\b\b\b\b\b\b\b\b\b\b\b\b\b\b\b\b\b\b\b\b\b\b\b\b\b\b\b\b\b\b\b\b\b\b\b\b\b\b\b\b\b\b\b\b\b\b\b\b\b\b\b\b\b\b\b\b\b\b\b\b\b\b\b\r",
        " 1152/42000 [..............................] - ETA: 1519s - loss: 2.3108 - acc: 0.1033"
       ]
      },
      {
       "output_type": "stream",
       "stream": "stdout",
       "text": [
        "\b\b\b\b\b\b\b\b\b\b\b\b\b\b\b\b\b\b\b\b\b\b\b\b\b\b\b\b\b\b\b\b\b\b\b\b\b\b\b\b\b\b\b\b\b\b\b\b\b\b\b\b\b\b\b\b\b\b\b\b\b\b\b\b\b\b\b\b\b\b\b\b\b\b\b\b\b\b\b\b\b\b\b\b\b\b\r",
        " 1280/42000 [..............................] - ETA: 1496s - loss: 2.3094 - acc: 0.1031"
       ]
      },
      {
       "output_type": "stream",
       "stream": "stdout",
       "text": [
        "\b\b\b\b\b\b\b\b\b\b\b\b\b\b\b\b\b\b\b\b\b\b\b\b\b\b\b\b\b\b\b\b\b\b\b\b\b\b\b\b\b\b\b\b\b\b\b\b\b\b\b\b\b\b\b\b\b\b\b\b\b\b\b\b\b\b\b\b\b\b\b\b\b\b\b\b\b\b\b\b\b\b\b\b\b\b\r",
        " 1408/42000 [>.............................] - ETA: 1479s - loss: 2.3142 - acc: 0.0973"
       ]
      },
      {
       "output_type": "stream",
       "stream": "stdout",
       "text": [
        "\b\b\b\b\b\b\b\b\b\b\b\b\b\b\b\b\b\b\b\b\b\b\b\b\b\b\b\b\b\b\b\b\b\b\b\b\b\b\b\b\b\b\b\b\b\b\b\b\b\b\b\b\b\b\b\b\b\b\b\b\b\b\b\b\b\b\b\b\b\b\b\b\b\b\b\b\b\b\b\b\b\b\b\b\b\b\r",
        " 1536/42000 [>.............................] - ETA: 1468s - loss: 2.3146 - acc: 0.0938"
       ]
      },
      {
       "output_type": "stream",
       "stream": "stdout",
       "text": [
        "\b\b\b\b\b\b\b\b\b\b\b\b\b\b\b\b\b\b\b\b\b\b\b\b\b\b\b\b\b\b\b\b\b\b\b\b\b\b\b\b\b\b\b\b\b\b\b\b\b\b\b\b\b\b\b\b\b\b\b\b\b\b\b\b\b\b\b\b\b\b\b\b\b\b\b\b\b\b\b\b\b\b\b\b\b\b\r",
        " 1664/42000 [>.............................] - ETA: 1453s - loss: 2.3138 - acc: 0.0944"
       ]
      }
     ]
    },
    {
     "cell_type": "code",
     "collapsed": false,
     "input": [],
     "language": "python",
     "metadata": {},
     "outputs": [],
     "prompt_number": 14
    }
   ],
   "metadata": {}
  }
 ]
}